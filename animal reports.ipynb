{
 "cells": [
  {
   "cell_type": "markdown",
   "id": "f0328930-a4d0-42b7-9b83-9f9f2405133e",
   "metadata": {},
   "source": [
    "## Analysis of Urban Park Ranger Animal Condition Responses"
   ]
  },
  {
   "cell_type": "markdown",
   "id": "5f0da380-1bd6-4119-b5de-479acd9aeb46",
   "metadata": {},
   "source": [
    "### Importing the data"
   ]
  },
  {
   "cell_type": "code",
   "execution_count": 1,
   "id": "69c7e185-afa8-4442-8891-d9236749c253",
   "metadata": {},
   "outputs": [],
   "source": [
    "import pandas as pd\n",
    "import numpy as np"
   ]
  },
  {
   "cell_type": "markdown",
   "id": "ded2c1ef-9629-4221-a829-4db62a7fb690",
   "metadata": {},
   "source": [
    "I initially tried to match this with another dataset, but couldn't determine how to do so (a 311 number didn't match a unique key in that dataset). "
   ]
  },
  {
   "cell_type": "markdown",
   "id": "38e6ba0b-a206-4b71-83fb-1d8380082805",
   "metadata": {},
   "source": [
    "### Call in the ranger requests"
   ]
  },
  {
   "cell_type": "code",
   "execution_count": 2,
   "id": "071f814d-18e2-4854-b3f3-4e383eed6204",
   "metadata": {},
   "outputs": [],
   "source": [
    "df =pd.read_csv(\"Urban_Park_Ranger_Animal_Condition_Response_20250618.csv\",na_values=['','****', 'N/A', 'n/a', 'None', 'none', 'Varies', '?', '-', 'NA', 'NaN', 'Does not apply'])"
   ]
  },
  {
   "cell_type": "code",
   "execution_count": 3,
   "id": "2e3a7ce3-5b32-4061-9c20-589a0b78d16e",
   "metadata": {},
   "outputs": [
    {
     "data": {
      "text/html": [
       "<div>\n",
       "<style scoped>\n",
       "    .dataframe tbody tr th:only-of-type {\n",
       "        vertical-align: middle;\n",
       "    }\n",
       "\n",
       "    .dataframe tbody tr th {\n",
       "        vertical-align: top;\n",
       "    }\n",
       "\n",
       "    .dataframe thead th {\n",
       "        text-align: right;\n",
       "    }\n",
       "</style>\n",
       "<table border=\"1\" class=\"dataframe\">\n",
       "  <thead>\n",
       "    <tr style=\"text-align: right;\">\n",
       "      <th></th>\n",
       "      <th>Date and Time of initial call</th>\n",
       "      <th>Date and time of Ranger response</th>\n",
       "      <th>Borough</th>\n",
       "      <th>Property</th>\n",
       "      <th>Location</th>\n",
       "      <th>Species Description</th>\n",
       "      <th>Call Source</th>\n",
       "      <th>Species Status</th>\n",
       "      <th>Animal Condition</th>\n",
       "      <th>Duration of Response</th>\n",
       "      <th>...</th>\n",
       "      <th>311SR Number</th>\n",
       "      <th>Final Ranger Action</th>\n",
       "      <th># of Animals</th>\n",
       "      <th>PEP Response</th>\n",
       "      <th>Animal Monitored</th>\n",
       "      <th>Rehabilitator</th>\n",
       "      <th>Hours spent monitoring</th>\n",
       "      <th>Police Response</th>\n",
       "      <th>ESU Response</th>\n",
       "      <th>ACC Intake Number</th>\n",
       "    </tr>\n",
       "  </thead>\n",
       "  <tbody>\n",
       "    <tr>\n",
       "      <th>0</th>\n",
       "      <td>06/23/2021 04:45:00 PM</td>\n",
       "      <td>06/24/2021 08:00:00 AM</td>\n",
       "      <td>Brooklyn</td>\n",
       "      <td>Sternberg Park</td>\n",
       "      <td>Inside locked athletic field under construction</td>\n",
       "      <td>Chukar</td>\n",
       "      <td>Other</td>\n",
       "      <td>Exotic</td>\n",
       "      <td>Healthy</td>\n",
       "      <td>6.00</td>\n",
       "      <td>...</td>\n",
       "      <td>311-06712416</td>\n",
       "      <td>ACC</td>\n",
       "      <td>6.0</td>\n",
       "      <td>False</td>\n",
       "      <td>False</td>\n",
       "      <td>NaN</td>\n",
       "      <td>NaN</td>\n",
       "      <td>False</td>\n",
       "      <td>False</td>\n",
       "      <td>163537</td>\n",
       "    </tr>\n",
       "    <tr>\n",
       "      <th>1</th>\n",
       "      <td>06/24/2021 10:00:00 AM</td>\n",
       "      <td>06/24/2021 11:00:00 AM</td>\n",
       "      <td>Bronx</td>\n",
       "      <td>Haffen Park</td>\n",
       "      <td>Haffen Pool</td>\n",
       "      <td>Sparrow</td>\n",
       "      <td>Central</td>\n",
       "      <td>Native</td>\n",
       "      <td>Healthy</td>\n",
       "      <td>1.75</td>\n",
       "      <td>...</td>\n",
       "      <td>311-06714879</td>\n",
       "      <td>Rehabilitator</td>\n",
       "      <td>4.0</td>\n",
       "      <td>False</td>\n",
       "      <td>False</td>\n",
       "      <td>NaN</td>\n",
       "      <td>NaN</td>\n",
       "      <td>False</td>\n",
       "      <td>False</td>\n",
       "      <td>NaN</td>\n",
       "    </tr>\n",
       "    <tr>\n",
       "      <th>2</th>\n",
       "      <td>06/23/2021 02:30:00 PM</td>\n",
       "      <td>06/23/2021 02:30:00 PM</td>\n",
       "      <td>Bronx</td>\n",
       "      <td>Pelham Bay Park</td>\n",
       "      <td>Pelham Bay South</td>\n",
       "      <td>White-tailed Deer</td>\n",
       "      <td>Employee</td>\n",
       "      <td>Native</td>\n",
       "      <td>NaN</td>\n",
       "      <td>1.00</td>\n",
       "      <td>...</td>\n",
       "      <td>NaN</td>\n",
       "      <td>Unfounded</td>\n",
       "      <td>0.0</td>\n",
       "      <td>False</td>\n",
       "      <td>False</td>\n",
       "      <td>NaN</td>\n",
       "      <td>NaN</td>\n",
       "      <td>False</td>\n",
       "      <td>False</td>\n",
       "      <td>NaN</td>\n",
       "    </tr>\n",
       "    <tr>\n",
       "      <th>3</th>\n",
       "      <td>06/23/2021 01:00:00 PM</td>\n",
       "      <td>06/23/2021 01:10:00 PM</td>\n",
       "      <td>Staten Island</td>\n",
       "      <td>Willowbrook Park</td>\n",
       "      <td>The carousel</td>\n",
       "      <td>Raccoon</td>\n",
       "      <td>Employee</td>\n",
       "      <td>Native</td>\n",
       "      <td>NaN</td>\n",
       "      <td>2.00</td>\n",
       "      <td>...</td>\n",
       "      <td>NaN</td>\n",
       "      <td>Unfounded</td>\n",
       "      <td>0.0</td>\n",
       "      <td>False</td>\n",
       "      <td>False</td>\n",
       "      <td>NaN</td>\n",
       "      <td>NaN</td>\n",
       "      <td>False</td>\n",
       "      <td>False</td>\n",
       "      <td>NaN</td>\n",
       "    </tr>\n",
       "    <tr>\n",
       "      <th>4</th>\n",
       "      <td>06/23/2021 09:20:00 AM</td>\n",
       "      <td>06/23/2021 09:20:00 AM</td>\n",
       "      <td>Queens</td>\n",
       "      <td>Judge Moses Weinstein Playground</td>\n",
       "      <td>Garbage can</td>\n",
       "      <td>Virginia Opossum</td>\n",
       "      <td>Central</td>\n",
       "      <td>Native</td>\n",
       "      <td>Healthy</td>\n",
       "      <td>2.25</td>\n",
       "      <td>...</td>\n",
       "      <td>311-06699415</td>\n",
       "      <td>ACC</td>\n",
       "      <td>1.0</td>\n",
       "      <td>False</td>\n",
       "      <td>False</td>\n",
       "      <td>NaN</td>\n",
       "      <td>NaN</td>\n",
       "      <td>False</td>\n",
       "      <td>False</td>\n",
       "      <td>119833</td>\n",
       "    </tr>\n",
       "  </tbody>\n",
       "</table>\n",
       "<p>5 rows × 22 columns</p>\n",
       "</div>"
      ],
      "text/plain": [
       "  Date and Time of initial call Date and time of Ranger response  \\\n",
       "0        06/23/2021 04:45:00 PM           06/24/2021 08:00:00 AM   \n",
       "1        06/24/2021 10:00:00 AM           06/24/2021 11:00:00 AM   \n",
       "2        06/23/2021 02:30:00 PM           06/23/2021 02:30:00 PM   \n",
       "3        06/23/2021 01:00:00 PM           06/23/2021 01:10:00 PM   \n",
       "4        06/23/2021 09:20:00 AM           06/23/2021 09:20:00 AM   \n",
       "\n",
       "         Borough                          Property  \\\n",
       "0       Brooklyn                    Sternberg Park   \n",
       "1          Bronx                       Haffen Park   \n",
       "2          Bronx                   Pelham Bay Park   \n",
       "3  Staten Island                  Willowbrook Park   \n",
       "4         Queens  Judge Moses Weinstein Playground   \n",
       "\n",
       "                                          Location Species Description  \\\n",
       "0  Inside locked athletic field under construction              Chukar   \n",
       "1                                      Haffen Pool             Sparrow   \n",
       "2                                 Pelham Bay South   White-tailed Deer   \n",
       "3                                     The carousel             Raccoon   \n",
       "4                                      Garbage can    Virginia Opossum   \n",
       "\n",
       "  Call Source Species Status Animal Condition  Duration of Response  ...  \\\n",
       "0       Other         Exotic          Healthy                  6.00  ...   \n",
       "1     Central         Native          Healthy                  1.75  ...   \n",
       "2    Employee         Native              NaN                  1.00  ...   \n",
       "3    Employee         Native              NaN                  2.00  ...   \n",
       "4     Central         Native          Healthy                  2.25  ...   \n",
       "\n",
       "   311SR Number Final Ranger Action # of Animals PEP Response  \\\n",
       "0  311-06712416                 ACC          6.0        False   \n",
       "1  311-06714879       Rehabilitator          4.0        False   \n",
       "2           NaN           Unfounded          0.0        False   \n",
       "3           NaN           Unfounded          0.0        False   \n",
       "4  311-06699415                 ACC          1.0        False   \n",
       "\n",
       "   Animal Monitored Rehabilitator Hours spent monitoring Police Response  \\\n",
       "0             False           NaN                    NaN           False   \n",
       "1             False           NaN                    NaN           False   \n",
       "2             False           NaN                    NaN           False   \n",
       "3             False           NaN                    NaN           False   \n",
       "4             False           NaN                    NaN           False   \n",
       "\n",
       "   ESU Response ACC Intake Number  \n",
       "0         False            163537  \n",
       "1         False               NaN  \n",
       "2         False               NaN  \n",
       "3         False               NaN  \n",
       "4         False            119833  \n",
       "\n",
       "[5 rows x 22 columns]"
      ]
     },
     "execution_count": 3,
     "metadata": {},
     "output_type": "execute_result"
    }
   ],
   "source": [
    "df.head()"
   ]
  },
  {
   "cell_type": "markdown",
   "id": "359fe49e-324e-408b-887c-d112370c4eef",
   "metadata": {},
   "source": [
    "of these columns i think i only really care about date and time of initial call, borough, property, location, species description, animal condition, 311 sr number (to merge dataframes), number of animals, maybe final ranger action"
   ]
  },
  {
   "cell_type": "code",
   "execution_count": 4,
   "id": "ea69f06b-d6cc-405a-8637-0d47261227f6",
   "metadata": {},
   "outputs": [
    {
     "data": {
      "text/plain": [
       "(6385, 22)"
      ]
     },
     "execution_count": 4,
     "metadata": {},
     "output_type": "execute_result"
    }
   ],
   "source": [
    "df.shape"
   ]
  },
  {
   "cell_type": "markdown",
   "id": "56e1055d-f25e-42e9-b038-d8c187e4b92e",
   "metadata": {},
   "source": [
    "## Eliminate unnecessary columns"
   ]
  },
  {
   "cell_type": "code",
   "execution_count": 5,
   "id": "3301fd08-6030-4204-a057-4ded866d25c4",
   "metadata": {},
   "outputs": [],
   "source": [
    "df.drop(columns=['Date and time of Ranger response', 'Call Source',  'Duration of Response', 'Age',\n",
    "       'PEP Response', 'Animal Monitored', 'Rehabilitator',\n",
    "       'Hours spent monitoring', 'Police Response', 'ESU Response', '311SR Number',\n",
    "       'ACC Intake Number'], inplace=True)"
   ]
  },
  {
   "cell_type": "code",
   "execution_count": 6,
   "id": "a58a8326-17ff-415f-bac4-ea20ec8b798d",
   "metadata": {},
   "outputs": [
    {
     "data": {
      "text/plain": [
       "(6385, 10)"
      ]
     },
     "execution_count": 6,
     "metadata": {},
     "output_type": "execute_result"
    }
   ],
   "source": [
    "df.shape"
   ]
  },
  {
   "cell_type": "markdown",
   "id": "1bcfeba0-71ce-4e01-adc8-c99e40246caa",
   "metadata": {},
   "source": [
    "Another organizational note - let's pull out the year it so we can sort by year and see how many animals were seen in different years."
   ]
  },
  {
   "cell_type": "code",
   "execution_count": 7,
   "id": "a38de7db-20df-4d7a-88e7-f1179547be2d",
   "metadata": {},
   "outputs": [
    {
     "name": "stderr",
     "output_type": "stream",
     "text": [
      "/var/folders/nd/r_m5lr614ms2xy6xqnbb6nyh0000gn/T/ipykernel_24012/178530572.py:1: UserWarning: Could not infer format, so each element will be parsed individually, falling back to `dateutil`. To ensure parsing is consistent and as-expected, please specify a format.\n",
      "  df['Date and Time of initial call'] = pd.to_datetime(df['Date and Time of initial call'])\n"
     ]
    }
   ],
   "source": [
    "df['Date and Time of initial call'] = pd.to_datetime(df['Date and Time of initial call'])"
   ]
  },
  {
   "cell_type": "code",
   "execution_count": 8,
   "id": "5fc0a45c-2272-4975-b5d2-18aac47e6b69",
   "metadata": {},
   "outputs": [],
   "source": [
    "df['Year'] =df['Date and Time of initial call'].dt.year"
   ]
  },
  {
   "cell_type": "markdown",
   "id": "f802c98c-2cd6-461c-9ae4-7ce3287c2fd6",
   "metadata": {},
   "source": [
    "### Cleaning and getting more columns correctly situating"
   ]
  },
  {
   "cell_type": "markdown",
   "id": "3b3bf2cb-2d92-4c89-8a03-1c0668cb442c",
   "metadata": {},
   "source": [
    "Because the location data is very nonspecific (location descriptors like \"near the field\" or \"by the garbage can\"), I'm going to use the\n",
    "the data we do have to attempt to geocode the sightings. This is imprecise because we don't have coordinates here, just the NYC Parks Property and the borough of NYC."
   ]
  },
  {
   "cell_type": "markdown",
   "id": "16014a75-c37a-4367-a156-e0e21ac3638b",
   "metadata": {},
   "source": [
    "first, combining property and borough information to easily feed into geocoder and have in the spreadsheet"
   ]
  },
  {
   "cell_type": "code",
   "execution_count": 9,
   "id": "2b755cac-6e81-41f3-bddf-b5b9e8c76dc9",
   "metadata": {},
   "outputs": [],
   "source": [
    "df['full_address'] = (\n",
    "    df['Property'].fillna('') + ', ' +\n",
    "    df['Borough'].fillna('') + ', NY'\n",
    ")"
   ]
  },
  {
   "cell_type": "markdown",
   "id": "1c5abb51-51d4-406f-93ef-3c6604f6182c",
   "metadata": {},
   "source": [
    "I also noticed there was a lot of repetition and duplicates in the species name, so I want to standardize those to effectively sort."
   ]
  },
  {
   "cell_type": "code",
   "execution_count": 10,
   "id": "98dae3ee-db57-4bf0-ba22-498181fe02dc",
   "metadata": {},
   "outputs": [],
   "source": [
    "df['Species Description'] = df['Species Description'].str.lower().str.strip()"
   ]
  },
  {
   "cell_type": "code",
   "execution_count": 11,
   "id": "127581e2-f783-46b9-87c0-ebda2a64cb7b",
   "metadata": {},
   "outputs": [],
   "source": [
    "df.to_csv('animals_cleaned.csv', index=False)"
   ]
  },
  {
   "cell_type": "code",
   "execution_count": 12,
   "id": "72b40bdc-805d-43b5-bf63-60eaf2dca61f",
   "metadata": {},
   "outputs": [
    {
     "data": {
      "text/html": [
       "<div>\n",
       "<style scoped>\n",
       "    .dataframe tbody tr th:only-of-type {\n",
       "        vertical-align: middle;\n",
       "    }\n",
       "\n",
       "    .dataframe tbody tr th {\n",
       "        vertical-align: top;\n",
       "    }\n",
       "\n",
       "    .dataframe thead th {\n",
       "        text-align: right;\n",
       "    }\n",
       "</style>\n",
       "<table border=\"1\" class=\"dataframe\">\n",
       "  <thead>\n",
       "    <tr style=\"text-align: right;\">\n",
       "      <th></th>\n",
       "      <th>Date and Time of initial call</th>\n",
       "      <th>Borough</th>\n",
       "      <th>Property</th>\n",
       "      <th>Location</th>\n",
       "      <th>Species Description</th>\n",
       "      <th>Species Status</th>\n",
       "      <th>Animal Condition</th>\n",
       "      <th>Animal Class</th>\n",
       "      <th>Final Ranger Action</th>\n",
       "      <th># of Animals</th>\n",
       "      <th>Year</th>\n",
       "      <th>full_address</th>\n",
       "    </tr>\n",
       "  </thead>\n",
       "  <tbody>\n",
       "    <tr>\n",
       "      <th>0</th>\n",
       "      <td>2021-06-23 16:45:00</td>\n",
       "      <td>Brooklyn</td>\n",
       "      <td>Sternberg Park</td>\n",
       "      <td>Inside locked athletic field under construction</td>\n",
       "      <td>chukar</td>\n",
       "      <td>Exotic</td>\n",
       "      <td>Healthy</td>\n",
       "      <td>Birds</td>\n",
       "      <td>ACC</td>\n",
       "      <td>6.0</td>\n",
       "      <td>2021</td>\n",
       "      <td>Sternberg Park, Brooklyn, NY</td>\n",
       "    </tr>\n",
       "    <tr>\n",
       "      <th>1</th>\n",
       "      <td>2021-06-24 10:00:00</td>\n",
       "      <td>Bronx</td>\n",
       "      <td>Haffen Park</td>\n",
       "      <td>Haffen Pool</td>\n",
       "      <td>sparrow</td>\n",
       "      <td>Native</td>\n",
       "      <td>Healthy</td>\n",
       "      <td>Birds</td>\n",
       "      <td>Rehabilitator</td>\n",
       "      <td>4.0</td>\n",
       "      <td>2021</td>\n",
       "      <td>Haffen Park, Bronx, NY</td>\n",
       "    </tr>\n",
       "    <tr>\n",
       "      <th>2</th>\n",
       "      <td>2021-06-23 14:30:00</td>\n",
       "      <td>Bronx</td>\n",
       "      <td>Pelham Bay Park</td>\n",
       "      <td>Pelham Bay South</td>\n",
       "      <td>white-tailed deer</td>\n",
       "      <td>Native</td>\n",
       "      <td>NaN</td>\n",
       "      <td>Deer</td>\n",
       "      <td>Unfounded</td>\n",
       "      <td>0.0</td>\n",
       "      <td>2021</td>\n",
       "      <td>Pelham Bay Park, Bronx, NY</td>\n",
       "    </tr>\n",
       "    <tr>\n",
       "      <th>3</th>\n",
       "      <td>2021-06-23 13:00:00</td>\n",
       "      <td>Staten Island</td>\n",
       "      <td>Willowbrook Park</td>\n",
       "      <td>The carousel</td>\n",
       "      <td>raccoon</td>\n",
       "      <td>Native</td>\n",
       "      <td>NaN</td>\n",
       "      <td>Small Mammals-RVS</td>\n",
       "      <td>Unfounded</td>\n",
       "      <td>0.0</td>\n",
       "      <td>2021</td>\n",
       "      <td>Willowbrook Park, Staten Island, NY</td>\n",
       "    </tr>\n",
       "    <tr>\n",
       "      <th>4</th>\n",
       "      <td>2021-06-23 09:20:00</td>\n",
       "      <td>Queens</td>\n",
       "      <td>Judge Moses Weinstein Playground</td>\n",
       "      <td>Garbage can</td>\n",
       "      <td>virginia opossum</td>\n",
       "      <td>Native</td>\n",
       "      <td>Healthy</td>\n",
       "      <td>Small Mammals-non RVS</td>\n",
       "      <td>ACC</td>\n",
       "      <td>1.0</td>\n",
       "      <td>2021</td>\n",
       "      <td>Judge Moses Weinstein Playground, Queens, NY</td>\n",
       "    </tr>\n",
       "  </tbody>\n",
       "</table>\n",
       "</div>"
      ],
      "text/plain": [
       "  Date and Time of initial call        Borough  \\\n",
       "0           2021-06-23 16:45:00       Brooklyn   \n",
       "1           2021-06-24 10:00:00          Bronx   \n",
       "2           2021-06-23 14:30:00          Bronx   \n",
       "3           2021-06-23 13:00:00  Staten Island   \n",
       "4           2021-06-23 09:20:00         Queens   \n",
       "\n",
       "                           Property  \\\n",
       "0                    Sternberg Park   \n",
       "1                       Haffen Park   \n",
       "2                   Pelham Bay Park   \n",
       "3                  Willowbrook Park   \n",
       "4  Judge Moses Weinstein Playground   \n",
       "\n",
       "                                          Location Species Description  \\\n",
       "0  Inside locked athletic field under construction              chukar   \n",
       "1                                      Haffen Pool             sparrow   \n",
       "2                                 Pelham Bay South   white-tailed deer   \n",
       "3                                     The carousel             raccoon   \n",
       "4                                      Garbage can    virginia opossum   \n",
       "\n",
       "  Species Status Animal Condition           Animal Class Final Ranger Action  \\\n",
       "0         Exotic          Healthy                  Birds                 ACC   \n",
       "1         Native          Healthy                  Birds       Rehabilitator   \n",
       "2         Native              NaN                   Deer           Unfounded   \n",
       "3         Native              NaN      Small Mammals-RVS           Unfounded   \n",
       "4         Native          Healthy  Small Mammals-non RVS                 ACC   \n",
       "\n",
       "   # of Animals  Year                                  full_address  \n",
       "0           6.0  2021                  Sternberg Park, Brooklyn, NY  \n",
       "1           4.0  2021                        Haffen Park, Bronx, NY  \n",
       "2           0.0  2021                    Pelham Bay Park, Bronx, NY  \n",
       "3           0.0  2021           Willowbrook Park, Staten Island, NY  \n",
       "4           1.0  2021  Judge Moses Weinstein Playground, Queens, NY  "
      ]
     },
     "execution_count": 12,
     "metadata": {},
     "output_type": "execute_result"
    }
   ],
   "source": [
    "df.head()"
   ]
  },
  {
   "cell_type": "code",
   "execution_count": 13,
   "id": "d78d86c4-85f3-439f-9982-fcf41c70ef7c",
   "metadata": {},
   "outputs": [],
   "source": [
    "df.to_csv(\"animals_with_locations.csv\", index=False)"
   ]
  },
  {
   "cell_type": "markdown",
   "id": "1d2125fd-8c3f-4f66-8df1-97a6e9ca64b1",
   "metadata": {},
   "source": [
    "### My question: what specific animal was most frequently reported during this time period?"
   ]
  },
  {
   "cell_type": "markdown",
   "id": "bff2a762-46bf-4567-86ba-9fcda0b3c2e1",
   "metadata": {},
   "source": [
    "One issue here is you need to do the count of all the animals, not just counting the rows."
   ]
  },
  {
   "cell_type": "code",
   "execution_count": 14,
   "id": "a726d808-1645-451d-be54-65a69091ec82",
   "metadata": {},
   "outputs": [
    {
     "data": {
      "text/plain": [
       "np.float64(8397.0)"
      ]
     },
     "execution_count": 14,
     "metadata": {},
     "output_type": "execute_result"
    }
   ],
   "source": [
    "df['# of Animals'].sum()"
   ]
  },
  {
   "cell_type": "markdown",
   "id": "5a4aaf0b-d6ed-4664-a498-4086e8ae713b",
   "metadata": {},
   "source": [
    "I want to create a bar chart of each of the species and how many were reported. But for some species, none were reported. To make sure we don't have a bunch of zeroes, I want to remove the zeroes from the chart before I visualize."
   ]
  },
  {
   "cell_type": "code",
   "execution_count": 15,
   "id": "408f1c50-c418-4089-b6b5-6ff54606d474",
   "metadata": {},
   "outputs": [],
   "source": [
    "species_with_animals = df.groupby('Species Description')['# of Animals'].sum()\n",
    "species_with_animals = species_with_animals.reset_index()"
   ]
  },
  {
   "cell_type": "code",
   "execution_count": 16,
   "id": "e502933a-de87-453a-aa79-6fca07301b04",
   "metadata": {},
   "outputs": [
    {
     "data": {
      "text/plain": [
       "Index(['Species Description', '# of Animals'], dtype='object')"
      ]
     },
     "execution_count": 16,
     "metadata": {},
     "output_type": "execute_result"
    }
   ],
   "source": [
    "species_with_animals.columns"
   ]
  },
  {
   "cell_type": "code",
   "execution_count": 17,
   "id": "5b2f2eaf-68eb-4fb5-8185-3ac954683e54",
   "metadata": {},
   "outputs": [
    {
     "name": "stdout",
     "output_type": "stream",
     "text": [
      "          Species Description  # of Animals\n",
      "252                   raccoon        1306.0\n",
      "18          atlantic menhaden        1075.0\n",
      "54               canada goose         443.0\n",
      "52           bullhead catfish         300.0\n",
      "201              mallard duck         299.0\n",
      "..                        ...           ...\n",
      "180     hummingbird (unknown)           1.0\n",
      "181            humpback whale           1.0\n",
      "182          iguana (unknown)           1.0\n",
      "185  kemp's ridley sea turtle           1.0\n",
      "340     yellow-rumped warbler           1.0\n",
      "\n",
      "[311 rows x 2 columns]\n"
     ]
    }
   ],
   "source": [
    "valid_species = species_with_animals[species_with_animals['# of Animals'] > 0]\n",
    "\n",
    "valid_species = valid_species.sort_values(by='# of Animals',ascending=False)\n",
    "print(valid_species)"
   ]
  },
  {
   "cell_type": "code",
   "execution_count": 18,
   "id": "0cbfea25-6a13-4f65-a669-2e1fa9a91eda",
   "metadata": {},
   "outputs": [],
   "source": [
    "valid_species.to_csv(\"valid_species.csv\",index=False)"
   ]
  },
  {
   "cell_type": "markdown",
   "id": "0ef5183e-10bf-44f6-87f5-9d15f3b0d6c1",
   "metadata": {},
   "source": [
    "### what borough has the most animals?"
   ]
  },
  {
   "cell_type": "code",
   "execution_count": 19,
   "id": "1df8414e-5c4c-4b4e-9e30-5d6ec061d9b5",
   "metadata": {},
   "outputs": [
    {
     "data": {
      "text/plain": [
       "<Axes: ylabel='Borough'>"
      ]
     },
     "execution_count": 19,
     "metadata": {},
     "output_type": "execute_result"
    },
    {
     "data": {
      "image/png": "[encoded data removed]",
      "text/plain": [
       "<Figure size 640x480 with 1 Axes>"
      ]
     },
     "metadata": {},
     "output_type": "display_data"
    }
   ],
   "source": [
    "boros= df.groupby('Borough')['# of Animals'].sum().sort_values(ascending=False)\n",
    "boros.plot(kind='barh')"
   ]
  },
  {
   "cell_type": "markdown",
   "id": "def79d8d-59a9-4486-95ca-d8d28626d8bb",
   "metadata": {},
   "source": [
    "### what specific location had the most animals sighted?"
   ]
  },
  {
   "cell_type": "code",
   "execution_count": 20,
   "id": "a23117fe-b721-4390-952f-a58643cbabcd",
   "metadata": {},
   "outputs": [],
   "source": [
    "properties = df.groupby('Property')['# of Animals'].sum().sort_values(ascending=False).head(20)"
   ]
  },
  {
   "cell_type": "markdown",
   "id": "fde78599-f160-48b8-a21f-e8931701d4dc",
   "metadata": {},
   "source": [
    "only doing the top 20 here so the chart isn't crazy long"
   ]
  },
  {
   "cell_type": "code",
   "execution_count": 21,
   "id": "7113bd2e-85bc-475d-ac7b-b992aa21acd7",
   "metadata": {},
   "outputs": [],
   "source": [
    "properties.to_csv('properties.csv',index=True)"
   ]
  },
  {
   "cell_type": "code",
   "execution_count": 22,
   "id": "9bbde0d2-6001-4254-98d8-d08664ff509c",
   "metadata": {},
   "outputs": [
    {
     "data": {
      "text/html": [
       "<div>\n",
       "<style scoped>\n",
       "    .dataframe tbody tr th:only-of-type {\n",
       "        vertical-align: middle;\n",
       "    }\n",
       "\n",
       "    .dataframe tbody tr th {\n",
       "        vertical-align: top;\n",
       "    }\n",
       "\n",
       "    .dataframe thead th {\n",
       "        text-align: right;\n",
       "    }\n",
       "</style>\n",
       "<table border=\"1\" class=\"dataframe\">\n",
       "  <thead>\n",
       "    <tr style=\"text-align: right;\">\n",
       "      <th></th>\n",
       "      <th>Date and Time of initial call</th>\n",
       "      <th>Borough</th>\n",
       "      <th>Property</th>\n",
       "      <th>Location</th>\n",
       "      <th>Species Description</th>\n",
       "      <th>Species Status</th>\n",
       "      <th>Animal Condition</th>\n",
       "      <th>Animal Class</th>\n",
       "      <th>Final Ranger Action</th>\n",
       "      <th># of Animals</th>\n",
       "      <th>Year</th>\n",
       "      <th>full_address</th>\n",
       "    </tr>\n",
       "  </thead>\n",
       "  <tbody>\n",
       "    <tr>\n",
       "      <th>0</th>\n",
       "      <td>2021-06-23 16:45:00</td>\n",
       "      <td>Brooklyn</td>\n",
       "      <td>Sternberg Park</td>\n",
       "      <td>Inside locked athletic field under construction</td>\n",
       "      <td>chukar</td>\n",
       "      <td>Exotic</td>\n",
       "      <td>Healthy</td>\n",
       "      <td>Birds</td>\n",
       "      <td>ACC</td>\n",
       "      <td>6.0</td>\n",
       "      <td>2021</td>\n",
       "      <td>Sternberg Park, Brooklyn, NY</td>\n",
       "    </tr>\n",
       "    <tr>\n",
       "      <th>1</th>\n",
       "      <td>2021-06-24 10:00:00</td>\n",
       "      <td>Bronx</td>\n",
       "      <td>Haffen Park</td>\n",
       "      <td>Haffen Pool</td>\n",
       "      <td>sparrow</td>\n",
       "      <td>Native</td>\n",
       "      <td>Healthy</td>\n",
       "      <td>Birds</td>\n",
       "      <td>Rehabilitator</td>\n",
       "      <td>4.0</td>\n",
       "      <td>2021</td>\n",
       "      <td>Haffen Park, Bronx, NY</td>\n",
       "    </tr>\n",
       "    <tr>\n",
       "      <th>2</th>\n",
       "      <td>2021-06-23 14:30:00</td>\n",
       "      <td>Bronx</td>\n",
       "      <td>Pelham Bay Park</td>\n",
       "      <td>Pelham Bay South</td>\n",
       "      <td>white-tailed deer</td>\n",
       "      <td>Native</td>\n",
       "      <td>NaN</td>\n",
       "      <td>Deer</td>\n",
       "      <td>Unfounded</td>\n",
       "      <td>0.0</td>\n",
       "      <td>2021</td>\n",
       "      <td>Pelham Bay Park, Bronx, NY</td>\n",
       "    </tr>\n",
       "    <tr>\n",
       "      <th>3</th>\n",
       "      <td>2021-06-23 13:00:00</td>\n",
       "      <td>Staten Island</td>\n",
       "      <td>Willowbrook Park</td>\n",
       "      <td>The carousel</td>\n",
       "      <td>raccoon</td>\n",
       "      <td>Native</td>\n",
       "      <td>NaN</td>\n",
       "      <td>Small Mammals-RVS</td>\n",
       "      <td>Unfounded</td>\n",
       "      <td>0.0</td>\n",
       "      <td>2021</td>\n",
       "      <td>Willowbrook Park, Staten Island, NY</td>\n",
       "    </tr>\n",
       "    <tr>\n",
       "      <th>4</th>\n",
       "      <td>2021-06-23 09:20:00</td>\n",
       "      <td>Queens</td>\n",
       "      <td>Judge Moses Weinstein Playground</td>\n",
       "      <td>Garbage can</td>\n",
       "      <td>virginia opossum</td>\n",
       "      <td>Native</td>\n",
       "      <td>Healthy</td>\n",
       "      <td>Small Mammals-non RVS</td>\n",
       "      <td>ACC</td>\n",
       "      <td>1.0</td>\n",
       "      <td>2021</td>\n",
       "      <td>Judge Moses Weinstein Playground, Queens, NY</td>\n",
       "    </tr>\n",
       "  </tbody>\n",
       "</table>\n",
       "</div>"
      ],
      "text/plain": [
       "  Date and Time of initial call        Borough  \\\n",
       "0           2021-06-23 16:45:00       Brooklyn   \n",
       "1           2021-06-24 10:00:00          Bronx   \n",
       "2           2021-06-23 14:30:00          Bronx   \n",
       "3           2021-06-23 13:00:00  Staten Island   \n",
       "4           2021-06-23 09:20:00         Queens   \n",
       "\n",
       "                           Property  \\\n",
       "0                    Sternberg Park   \n",
       "1                       Haffen Park   \n",
       "2                   Pelham Bay Park   \n",
       "3                  Willowbrook Park   \n",
       "4  Judge Moses Weinstein Playground   \n",
       "\n",
       "                                          Location Species Description  \\\n",
       "0  Inside locked athletic field under construction              chukar   \n",
       "1                                      Haffen Pool             sparrow   \n",
       "2                                 Pelham Bay South   white-tailed deer   \n",
       "3                                     The carousel             raccoon   \n",
       "4                                      Garbage can    virginia opossum   \n",
       "\n",
       "  Species Status Animal Condition           Animal Class Final Ranger Action  \\\n",
       "0         Exotic          Healthy                  Birds                 ACC   \n",
       "1         Native          Healthy                  Birds       Rehabilitator   \n",
       "2         Native              NaN                   Deer           Unfounded   \n",
       "3         Native              NaN      Small Mammals-RVS           Unfounded   \n",
       "4         Native          Healthy  Small Mammals-non RVS                 ACC   \n",
       "\n",
       "   # of Animals  Year                                  full_address  \n",
       "0           6.0  2021                  Sternberg Park, Brooklyn, NY  \n",
       "1           4.0  2021                        Haffen Park, Bronx, NY  \n",
       "2           0.0  2021                    Pelham Bay Park, Bronx, NY  \n",
       "3           0.0  2021           Willowbrook Park, Staten Island, NY  \n",
       "4           1.0  2021  Judge Moses Weinstein Playground, Queens, NY  "
      ]
     },
     "execution_count": 22,
     "metadata": {},
     "output_type": "execute_result"
    }
   ],
   "source": [
    "df.head()"
   ]
  },
  {
   "cell_type": "markdown",
   "id": "8343bba0-f29d-4759-b903-c2986e46b98b",
   "metadata": {},
   "source": [
    "### Let's look at deer specifically. create variable called deer"
   ]
  },
  {
   "cell_type": "code",
   "execution_count": 28,
   "id": "7308dbf8-83a3-459e-9012-3f9c5b788e40",
   "metadata": {},
   "outputs": [],
   "source": [
    "deer = df[df['Species Description'] == 'white-tailed deer']\n",
    "#deer.groupby('Property')['# of Animals'].sum().sort_values(ascending=False).head(10)\n",
    "deer.to_csv(\"deer.csv\", index=True)"
   ]
  },
  {
   "cell_type": "code",
   "execution_count": 30,
   "id": "accad90e-9792-4ef3-88be-ac90634e6238",
   "metadata": {},
   "outputs": [
    {
     "data": {
      "text/html": [
       "<div>\n",
       "<style scoped>\n",
       "    .dataframe tbody tr th:only-of-type {\n",
       "        vertical-align: middle;\n",
       "    }\n",
       "\n",
       "    .dataframe tbody tr th {\n",
       "        vertical-align: top;\n",
       "    }\n",
       "\n",
       "    .dataframe thead th {\n",
       "        text-align: right;\n",
       "    }\n",
       "</style>\n",
       "<table border=\"1\" class=\"dataframe\">\n",
       "  <thead>\n",
       "    <tr style=\"text-align: right;\">\n",
       "      <th></th>\n",
       "      <th>Date and Time of initial call</th>\n",
       "      <th>Borough</th>\n",
       "      <th>Property</th>\n",
       "      <th>Location</th>\n",
       "      <th>Species Description</th>\n",
       "      <th>Species Status</th>\n",
       "      <th>Animal Condition</th>\n",
       "      <th>Animal Class</th>\n",
       "      <th>Final Ranger Action</th>\n",
       "      <th># of Animals</th>\n",
       "      <th>Year</th>\n",
       "      <th>full_address</th>\n",
       "    </tr>\n",
       "  </thead>\n",
       "  <tbody>\n",
       "    <tr>\n",
       "      <th>2</th>\n",
       "      <td>2021-06-23 14:30:00</td>\n",
       "      <td>Bronx</td>\n",
       "      <td>Pelham Bay Park</td>\n",
       "      <td>Pelham Bay South</td>\n",
       "      <td>white-tailed deer</td>\n",
       "      <td>Native</td>\n",
       "      <td>NaN</td>\n",
       "      <td>Deer</td>\n",
       "      <td>Unfounded</td>\n",
       "      <td>0.0</td>\n",
       "      <td>2021</td>\n",
       "      <td>Pelham Bay Park, Bronx, NY</td>\n",
       "    </tr>\n",
       "    <tr>\n",
       "      <th>124</th>\n",
       "      <td>2021-05-24 10:00:00</td>\n",
       "      <td>Staten Island</td>\n",
       "      <td>Conference House Park</td>\n",
       "      <td>Next to sidewalk along Statterlee St., between...</td>\n",
       "      <td>white-tailed deer</td>\n",
       "      <td>Native</td>\n",
       "      <td>DOA</td>\n",
       "      <td>Deer</td>\n",
       "      <td>Advised/Educated others</td>\n",
       "      <td>1.0</td>\n",
       "      <td>2021</td>\n",
       "      <td>Conference House Park, Staten Island, NY</td>\n",
       "    </tr>\n",
       "    <tr>\n",
       "      <th>146</th>\n",
       "      <td>2021-05-19 16:30:00</td>\n",
       "      <td>Bronx</td>\n",
       "      <td>Pelham Bay Park</td>\n",
       "      <td>Turtle Cove</td>\n",
       "      <td>white-tailed deer</td>\n",
       "      <td>Native</td>\n",
       "      <td>Injured</td>\n",
       "      <td>Deer</td>\n",
       "      <td>Unfounded</td>\n",
       "      <td>0.0</td>\n",
       "      <td>2021</td>\n",
       "      <td>Pelham Bay Park, Bronx, NY</td>\n",
       "    </tr>\n",
       "    <tr>\n",
       "      <th>325</th>\n",
       "      <td>2021-03-18 11:30:00</td>\n",
       "      <td>Bronx</td>\n",
       "      <td>Pelham Bay Park</td>\n",
       "      <td>Pelham Bay Park West &amp; Ropes Avenue</td>\n",
       "      <td>white-tailed deer</td>\n",
       "      <td>Native</td>\n",
       "      <td>DOA</td>\n",
       "      <td>Deer</td>\n",
       "      <td>Advised/Educated others</td>\n",
       "      <td>1.0</td>\n",
       "      <td>2021</td>\n",
       "      <td>Pelham Bay Park, Bronx, NY</td>\n",
       "    </tr>\n",
       "    <tr>\n",
       "      <th>326</th>\n",
       "      <td>2021-03-18 11:30:00</td>\n",
       "      <td>Bronx</td>\n",
       "      <td>Pelham Bay Park</td>\n",
       "      <td>Pelham Bay Park West &amp; Ropes Avenue</td>\n",
       "      <td>white-tailed deer</td>\n",
       "      <td>Native</td>\n",
       "      <td>Injured</td>\n",
       "      <td>Deer</td>\n",
       "      <td>Monitored Animal</td>\n",
       "      <td>1.0</td>\n",
       "      <td>2021</td>\n",
       "      <td>Pelham Bay Park, Bronx, NY</td>\n",
       "    </tr>\n",
       "    <tr>\n",
       "      <th>333</th>\n",
       "      <td>2021-03-11 09:30:00</td>\n",
       "      <td>Staten Island</td>\n",
       "      <td>Clove Lakes Park</td>\n",
       "      <td>In woods behind Ice Skating Rink</td>\n",
       "      <td>white-tailed deer</td>\n",
       "      <td>Native</td>\n",
       "      <td>DOA</td>\n",
       "      <td>Deer</td>\n",
       "      <td>Relocated/Condition Corrected</td>\n",
       "      <td>1.0</td>\n",
       "      <td>2021</td>\n",
       "      <td>Clove Lakes Park, Staten Island, NY</td>\n",
       "    </tr>\n",
       "    <tr>\n",
       "      <th>339</th>\n",
       "      <td>2021-03-09 09:10:00</td>\n",
       "      <td>Staten Island</td>\n",
       "      <td>Greenbelt White trail</td>\n",
       "      <td>Ashworth Ave. and Lovell Ave.</td>\n",
       "      <td>white-tailed deer</td>\n",
       "      <td>Native</td>\n",
       "      <td>Injured</td>\n",
       "      <td>Deer</td>\n",
       "      <td>Unfounded</td>\n",
       "      <td>0.0</td>\n",
       "      <td>2021</td>\n",
       "      <td>Greenbelt White trail, Staten Island, NY</td>\n",
       "    </tr>\n",
       "    <tr>\n",
       "      <th>341</th>\n",
       "      <td>2021-03-07 09:00:00</td>\n",
       "      <td>Staten Island</td>\n",
       "      <td>Joseph Manna Park</td>\n",
       "      <td>In shrubs</td>\n",
       "      <td>white-tailed deer</td>\n",
       "      <td>Native</td>\n",
       "      <td>DOA</td>\n",
       "      <td>Deer</td>\n",
       "      <td>Advised/Educated others</td>\n",
       "      <td>1.0</td>\n",
       "      <td>2021</td>\n",
       "      <td>Joseph Manna Park, Staten Island, NY</td>\n",
       "    </tr>\n",
       "    <tr>\n",
       "      <th>345</th>\n",
       "      <td>2021-03-04 17:00:00</td>\n",
       "      <td>Bronx</td>\n",
       "      <td>Pelham Bay Park</td>\n",
       "      <td>Twin Island Shoreline</td>\n",
       "      <td>white-tailed deer</td>\n",
       "      <td>Native</td>\n",
       "      <td>DOA</td>\n",
       "      <td>Deer</td>\n",
       "      <td>Relocated/Condition Corrected</td>\n",
       "      <td>1.0</td>\n",
       "      <td>2021</td>\n",
       "      <td>Pelham Bay Park, Bronx, NY</td>\n",
       "    </tr>\n",
       "    <tr>\n",
       "      <th>351</th>\n",
       "      <td>2021-03-03 09:00:00</td>\n",
       "      <td>Staten Island</td>\n",
       "      <td>William T. Davis Wildlife Refuge</td>\n",
       "      <td>Behind the Parks house at 2226 Richmond Ave</td>\n",
       "      <td>white-tailed deer</td>\n",
       "      <td>Native</td>\n",
       "      <td>Injured</td>\n",
       "      <td>Deer</td>\n",
       "      <td>Advised/Educated others</td>\n",
       "      <td>1.0</td>\n",
       "      <td>2021</td>\n",
       "      <td>William T. Davis Wildlife Refuge, Staten Islan...</td>\n",
       "    </tr>\n",
       "    <tr>\n",
       "      <th>430</th>\n",
       "      <td>2021-01-14 12:00:00</td>\n",
       "      <td>Staten Island</td>\n",
       "      <td>Freshkills Park</td>\n",
       "      <td>William T Davis Wildlife refuge</td>\n",
       "      <td>white-tailed deer</td>\n",
       "      <td>Native</td>\n",
       "      <td>Injured</td>\n",
       "      <td>Deer</td>\n",
       "      <td>Unfounded</td>\n",
       "      <td>0.0</td>\n",
       "      <td>2021</td>\n",
       "      <td>Freshkills Park, Staten Island, NY</td>\n",
       "    </tr>\n",
       "    <tr>\n",
       "      <th>436</th>\n",
       "      <td>2021-01-14 12:00:00</td>\n",
       "      <td>Staten Island</td>\n",
       "      <td>Freshkills Park</td>\n",
       "      <td>William T. Davis Wildlife Refuge, Travis Ave a...</td>\n",
       "      <td>white-tailed deer</td>\n",
       "      <td>Native</td>\n",
       "      <td>Injured</td>\n",
       "      <td>Deer</td>\n",
       "      <td>Monitored Animal</td>\n",
       "      <td>1.0</td>\n",
       "      <td>2021</td>\n",
       "      <td>Freshkills Park, Staten Island, NY</td>\n",
       "    </tr>\n",
       "    <tr>\n",
       "      <th>437</th>\n",
       "      <td>2021-01-13 13:40:00</td>\n",
       "      <td>Staten Island</td>\n",
       "      <td>South Shore Country Club</td>\n",
       "      <td>30-50ft in woods by the 8th T hole</td>\n",
       "      <td>white-tailed deer</td>\n",
       "      <td>Native</td>\n",
       "      <td>Healthy</td>\n",
       "      <td>Deer</td>\n",
       "      <td>Relocated/Condition Corrected</td>\n",
       "      <td>1.0</td>\n",
       "      <td>2021</td>\n",
       "      <td>South Shore Country Club, Staten Island, NY</td>\n",
       "    </tr>\n",
       "    <tr>\n",
       "      <th>452</th>\n",
       "      <td>2021-06-25 15:00:00</td>\n",
       "      <td>Bronx</td>\n",
       "      <td>Pelham Bay Park</td>\n",
       "      <td>Near Orchard Beach dumpsters</td>\n",
       "      <td>white-tailed deer</td>\n",
       "      <td>Native</td>\n",
       "      <td>Injured</td>\n",
       "      <td>Deer</td>\n",
       "      <td>Unfounded</td>\n",
       "      <td>0.0</td>\n",
       "      <td>2021</td>\n",
       "      <td>Pelham Bay Park, Bronx, NY</td>\n",
       "    </tr>\n",
       "    <tr>\n",
       "      <th>487</th>\n",
       "      <td>2021-07-09 10:15:00</td>\n",
       "      <td>Staten Island</td>\n",
       "      <td>Brookfield Park</td>\n",
       "      <td>east mound</td>\n",
       "      <td>white-tailed deer</td>\n",
       "      <td>Native</td>\n",
       "      <td>Unhealthy</td>\n",
       "      <td>Deer</td>\n",
       "      <td>Monitored Animal</td>\n",
       "      <td>1.0</td>\n",
       "      <td>2021</td>\n",
       "      <td>Brookfield Park, Staten Island, NY</td>\n",
       "    </tr>\n",
       "    <tr>\n",
       "      <th>490</th>\n",
       "      <td>2021-07-09 15:00:00</td>\n",
       "      <td>Staten Island</td>\n",
       "      <td>Brookfield Park</td>\n",
       "      <td>east mound</td>\n",
       "      <td>white-tailed deer</td>\n",
       "      <td>Native</td>\n",
       "      <td>DOA</td>\n",
       "      <td>Deer</td>\n",
       "      <td>Advised/Educated others</td>\n",
       "      <td>1.0</td>\n",
       "      <td>2021</td>\n",
       "      <td>Brookfield Park, Staten Island, NY</td>\n",
       "    </tr>\n",
       "    <tr>\n",
       "      <th>507</th>\n",
       "      <td>2021-07-13 19:00:00</td>\n",
       "      <td>Bronx</td>\n",
       "      <td>Pelham Bay Park</td>\n",
       "      <td>Orchard Beach Parking Lot</td>\n",
       "      <td>white-tailed deer</td>\n",
       "      <td>Native</td>\n",
       "      <td>Injured</td>\n",
       "      <td>Deer</td>\n",
       "      <td>Unfounded</td>\n",
       "      <td>0.0</td>\n",
       "      <td>2021</td>\n",
       "      <td>Pelham Bay Park, Bronx, NY</td>\n",
       "    </tr>\n",
       "    <tr>\n",
       "      <th>603</th>\n",
       "      <td>2021-08-14 12:10:00</td>\n",
       "      <td>Staten Island</td>\n",
       "      <td>Blue Heron Park</td>\n",
       "      <td>Wooded area near red trail</td>\n",
       "      <td>white-tailed deer</td>\n",
       "      <td>Native</td>\n",
       "      <td>DOA</td>\n",
       "      <td>Deer</td>\n",
       "      <td>Relocated/Condition Corrected</td>\n",
       "      <td>1.0</td>\n",
       "      <td>2021</td>\n",
       "      <td>Blue Heron Park, Staten Island, NY</td>\n",
       "    </tr>\n",
       "    <tr>\n",
       "      <th>622</th>\n",
       "      <td>2021-08-18 15:08:00</td>\n",
       "      <td>Queens</td>\n",
       "      <td>Alley Pond Park</td>\n",
       "      <td>Northern Boulevard and Cross Island Parkway North</td>\n",
       "      <td>white-tailed deer</td>\n",
       "      <td>Native</td>\n",
       "      <td>Injured</td>\n",
       "      <td>Deer</td>\n",
       "      <td>Unfounded</td>\n",
       "      <td>0.0</td>\n",
       "      <td>2021</td>\n",
       "      <td>Alley Pond Park, Queens, NY</td>\n",
       "    </tr>\n",
       "    <tr>\n",
       "      <th>623</th>\n",
       "      <td>2021-08-18 16:45:00</td>\n",
       "      <td>Staten Island</td>\n",
       "      <td>Blue Heron Park</td>\n",
       "      <td>Wooded area near red trail</td>\n",
       "      <td>white-tailed deer</td>\n",
       "      <td>Native</td>\n",
       "      <td>DOA</td>\n",
       "      <td>Deer</td>\n",
       "      <td>Relocated/Condition Corrected</td>\n",
       "      <td>1.0</td>\n",
       "      <td>2021</td>\n",
       "      <td>Blue Heron Park, Staten Island, NY</td>\n",
       "    </tr>\n",
       "  </tbody>\n",
       "</table>\n",
       "</div>"
      ],
      "text/plain": [
       "    Date and Time of initial call        Borough  \\\n",
       "2             2021-06-23 14:30:00          Bronx   \n",
       "124           2021-05-24 10:00:00  Staten Island   \n",
       "146           2021-05-19 16:30:00          Bronx   \n",
       "325           2021-03-18 11:30:00          Bronx   \n",
       "326           2021-03-18 11:30:00          Bronx   \n",
       "333           2021-03-11 09:30:00  Staten Island   \n",
       "339           2021-03-09 09:10:00  Staten Island   \n",
       "341           2021-03-07 09:00:00  Staten Island   \n",
       "345           2021-03-04 17:00:00          Bronx   \n",
       "351           2021-03-03 09:00:00  Staten Island   \n",
       "430           2021-01-14 12:00:00  Staten Island   \n",
       "436           2021-01-14 12:00:00  Staten Island   \n",
       "437           2021-01-13 13:40:00  Staten Island   \n",
       "452           2021-06-25 15:00:00          Bronx   \n",
       "487           2021-07-09 10:15:00  Staten Island   \n",
       "490           2021-07-09 15:00:00  Staten Island   \n",
       "507           2021-07-13 19:00:00          Bronx   \n",
       "603           2021-08-14 12:10:00  Staten Island   \n",
       "622           2021-08-18 15:08:00         Queens   \n",
       "623           2021-08-18 16:45:00  Staten Island   \n",
       "\n",
       "                             Property  \\\n",
       "2                     Pelham Bay Park   \n",
       "124             Conference House Park   \n",
       "146                   Pelham Bay Park   \n",
       "325                   Pelham Bay Park   \n",
       "326                   Pelham Bay Park   \n",
       "333                  Clove Lakes Park   \n",
       "339             Greenbelt White trail   \n",
       "341                 Joseph Manna Park   \n",
       "345                   Pelham Bay Park   \n",
       "351  William T. Davis Wildlife Refuge   \n",
       "430                   Freshkills Park   \n",
       "436                   Freshkills Park   \n",
       "437          South Shore Country Club   \n",
       "452                   Pelham Bay Park   \n",
       "487                   Brookfield Park   \n",
       "490                   Brookfield Park   \n",
       "507                   Pelham Bay Park   \n",
       "603                   Blue Heron Park   \n",
       "622                   Alley Pond Park   \n",
       "623                   Blue Heron Park   \n",
       "\n",
       "                                              Location Species Description  \\\n",
       "2                                     Pelham Bay South   white-tailed deer   \n",
       "124  Next to sidewalk along Statterlee St., between...   white-tailed deer   \n",
       "146                                        Turtle Cove   white-tailed deer   \n",
       "325                Pelham Bay Park West & Ropes Avenue   white-tailed deer   \n",
       "326                Pelham Bay Park West & Ropes Avenue   white-tailed deer   \n",
       "333                   In woods behind Ice Skating Rink   white-tailed deer   \n",
       "339                      Ashworth Ave. and Lovell Ave.   white-tailed deer   \n",
       "341                                          In shrubs   white-tailed deer   \n",
       "345                              Twin Island Shoreline   white-tailed deer   \n",
       "351        Behind the Parks house at 2226 Richmond Ave   white-tailed deer   \n",
       "430                    William T Davis Wildlife refuge   white-tailed deer   \n",
       "436  William T. Davis Wildlife Refuge, Travis Ave a...   white-tailed deer   \n",
       "437                 30-50ft in woods by the 8th T hole   white-tailed deer   \n",
       "452                       Near Orchard Beach dumpsters   white-tailed deer   \n",
       "487                                         east mound   white-tailed deer   \n",
       "490                                         east mound   white-tailed deer   \n",
       "507                          Orchard Beach Parking Lot   white-tailed deer   \n",
       "603                         Wooded area near red trail   white-tailed deer   \n",
       "622  Northern Boulevard and Cross Island Parkway North   white-tailed deer   \n",
       "623                         Wooded area near red trail   white-tailed deer   \n",
       "\n",
       "    Species Status Animal Condition Animal Class  \\\n",
       "2           Native              NaN         Deer   \n",
       "124         Native              DOA         Deer   \n",
       "146         Native          Injured         Deer   \n",
       "325         Native              DOA         Deer   \n",
       "326         Native          Injured         Deer   \n",
       "333         Native              DOA         Deer   \n",
       "339         Native          Injured         Deer   \n",
       "341         Native              DOA         Deer   \n",
       "345         Native              DOA         Deer   \n",
       "351         Native          Injured         Deer   \n",
       "430         Native          Injured         Deer   \n",
       "436         Native          Injured         Deer   \n",
       "437         Native          Healthy         Deer   \n",
       "452         Native          Injured         Deer   \n",
       "487         Native        Unhealthy         Deer   \n",
       "490         Native              DOA         Deer   \n",
       "507         Native          Injured         Deer   \n",
       "603         Native              DOA         Deer   \n",
       "622         Native          Injured         Deer   \n",
       "623         Native              DOA         Deer   \n",
       "\n",
       "               Final Ranger Action  # of Animals  Year  \\\n",
       "2                        Unfounded           0.0  2021   \n",
       "124        Advised/Educated others           1.0  2021   \n",
       "146                      Unfounded           0.0  2021   \n",
       "325        Advised/Educated others           1.0  2021   \n",
       "326               Monitored Animal           1.0  2021   \n",
       "333  Relocated/Condition Corrected           1.0  2021   \n",
       "339                      Unfounded           0.0  2021   \n",
       "341        Advised/Educated others           1.0  2021   \n",
       "345  Relocated/Condition Corrected           1.0  2021   \n",
       "351        Advised/Educated others           1.0  2021   \n",
       "430                      Unfounded           0.0  2021   \n",
       "436               Monitored Animal           1.0  2021   \n",
       "437  Relocated/Condition Corrected           1.0  2021   \n",
       "452                      Unfounded           0.0  2021   \n",
       "487               Monitored Animal           1.0  2021   \n",
       "490        Advised/Educated others           1.0  2021   \n",
       "507                      Unfounded           0.0  2021   \n",
       "603  Relocated/Condition Corrected           1.0  2021   \n",
       "622                      Unfounded           0.0  2021   \n",
       "623  Relocated/Condition Corrected           1.0  2021   \n",
       "\n",
       "                                          full_address  \n",
       "2                           Pelham Bay Park, Bronx, NY  \n",
       "124           Conference House Park, Staten Island, NY  \n",
       "146                         Pelham Bay Park, Bronx, NY  \n",
       "325                         Pelham Bay Park, Bronx, NY  \n",
       "326                         Pelham Bay Park, Bronx, NY  \n",
       "333                Clove Lakes Park, Staten Island, NY  \n",
       "339           Greenbelt White trail, Staten Island, NY  \n",
       "341               Joseph Manna Park, Staten Island, NY  \n",
       "345                         Pelham Bay Park, Bronx, NY  \n",
       "351  William T. Davis Wildlife Refuge, Staten Islan...  \n",
       "430                 Freshkills Park, Staten Island, NY  \n",
       "436                 Freshkills Park, Staten Island, NY  \n",
       "437        South Shore Country Club, Staten Island, NY  \n",
       "452                         Pelham Bay Park, Bronx, NY  \n",
       "487                 Brookfield Park, Staten Island, NY  \n",
       "490                 Brookfield Park, Staten Island, NY  \n",
       "507                         Pelham Bay Park, Bronx, NY  \n",
       "603                 Blue Heron Park, Staten Island, NY  \n",
       "622                        Alley Pond Park, Queens, NY  \n",
       "623                 Blue Heron Park, Staten Island, NY  "
      ]
     },
     "execution_count": 30,
     "metadata": {},
     "output_type": "execute_result"
    }
   ],
   "source": [
    "deer.head(20)"
   ]
  },
  {
   "cell_type": "markdown",
   "id": "9d1ed2cd-db38-4d74-b206-76bd4f71a84b",
   "metadata": {},
   "source": [
    "where did people see the deer?"
   ]
  },
  {
   "cell_type": "markdown",
   "id": "7821f31d-dcf2-4c51-8ca6-6662f8c8bddd",
   "metadata": {},
   "source": [
    "Trying to geocode all the animals this way didn't work - it hit a limit at 900. So for now, I'm just doing deer (which is what I'm interested in anyway)."
   ]
  },
  {
   "cell_type": "code",
   "execution_count": 31,
   "id": "0fc1194b-86c1-4aa7-8b3d-b8b596054ecc",
   "metadata": {},
   "outputs": [
    {
     "name": "stdout",
     "output_type": "stream",
     "text": [
      "Requirement already satisfied: geopy in /Users/cassidyjensen/.pyenv/versions/3.11.8/lib/python3.11/site-packages (2.4.1)\n",
      "Requirement already satisfied: geographiclib<3,>=1.52 in /Users/cassidyjensen/.pyenv/versions/3.11.8/lib/python3.11/site-packages (from geopy) (2.0)\n"
     ]
    }
   ],
   "source": [
    "import geocoder\n",
    "\n",
    "!pip install geopy\n",
    "from geopy.geocoders import Nominatim\n",
    "from time import sleep\n",
    "deer = pd.read_csv('deer.csv')\n",
    "geolocator = Nominatim(user_agent=\"ananya-geopy-lookup\")"
   ]
  },
  {
   "cell_type": "code",
   "execution_count": 46,
   "id": "19847669-ccf7-4bdb-af45-61b5d503ecd3",
   "metadata": {},
   "outputs": [],
   "source": [
    "def geocode_address(address):\n",
    "    try:\n",
    "        location = geolocator.geocode(address)\n",
    "        sleep(1)  # Respectful delay to avoid rate limiting\n",
    "        return location\n",
    "    except:\n",
    "        return None\n",
    "# Geocode each address\n",
    "deer['location'] = deer['full_address'].apply(geocode_address)\n",
    "# Now extract latitude and longitude\n",
    "deer['latitude'] = deer['location'].apply(lambda loc: loc.latitude if loc else None)\n",
    "deer['longitude'] = deer['location'].apply(lambda loc: loc.longitude if loc else None)\n",
    "deer = deer.drop(columns='location')  # Remove location column\n",
    "deer_cleaned = deer"
   ]
  },
  {
   "cell_type": "code",
   "execution_count": 47,
   "id": "ad2666c1-77e6-4402-acc5-63f10f213c29",
   "metadata": {},
   "outputs": [
    {
     "data": {
      "text/html": [
       "<div>\n",
       "<style scoped>\n",
       "    .dataframe tbody tr th:only-of-type {\n",
       "        vertical-align: middle;\n",
       "    }\n",
       "\n",
       "    .dataframe tbody tr th {\n",
       "        vertical-align: top;\n",
       "    }\n",
       "\n",
       "    .dataframe thead th {\n",
       "        text-align: right;\n",
       "    }\n",
       "</style>\n",
       "<table border=\"1\" class=\"dataframe\">\n",
       "  <thead>\n",
       "    <tr style=\"text-align: right;\">\n",
       "      <th></th>\n",
       "      <th>Unnamed: 0</th>\n",
       "      <th>Date and Time of initial call</th>\n",
       "      <th>Borough</th>\n",
       "      <th>Property</th>\n",
       "      <th>Location</th>\n",
       "      <th>Species Description</th>\n",
       "      <th>Species Status</th>\n",
       "      <th>Animal Condition</th>\n",
       "      <th>Animal Class</th>\n",
       "      <th>Final Ranger Action</th>\n",
       "      <th># of Animals</th>\n",
       "      <th>Year</th>\n",
       "      <th>full_address</th>\n",
       "      <th>latitude</th>\n",
       "      <th>longitude</th>\n",
       "    </tr>\n",
       "  </thead>\n",
       "  <tbody>\n",
       "    <tr>\n",
       "      <th>1</th>\n",
       "      <td>124</td>\n",
       "      <td>2021-05-24 10:00:00</td>\n",
       "      <td>Staten Island</td>\n",
       "      <td>Conference House Park</td>\n",
       "      <td>Next to sidewalk along Statterlee St., between...</td>\n",
       "      <td>white-tailed deer</td>\n",
       "      <td>Native</td>\n",
       "      <td>DOA</td>\n",
       "      <td>Deer</td>\n",
       "      <td>Advised/Educated others</td>\n",
       "      <td>1.0</td>\n",
       "      <td>2021</td>\n",
       "      <td>Conference House Park, Staten Island, NY</td>\n",
       "      <td>40.501545</td>\n",
       "      <td>-74.251830</td>\n",
       "    </tr>\n",
       "    <tr>\n",
       "      <th>3</th>\n",
       "      <td>325</td>\n",
       "      <td>2021-03-18 11:30:00</td>\n",
       "      <td>Bronx</td>\n",
       "      <td>Pelham Bay Park</td>\n",
       "      <td>Pelham Bay Park West &amp; Ropes Avenue</td>\n",
       "      <td>white-tailed deer</td>\n",
       "      <td>Native</td>\n",
       "      <td>DOA</td>\n",
       "      <td>Deer</td>\n",
       "      <td>Advised/Educated others</td>\n",
       "      <td>1.0</td>\n",
       "      <td>2021</td>\n",
       "      <td>Pelham Bay Park, Bronx, NY</td>\n",
       "      <td>40.852548</td>\n",
       "      <td>-73.827938</td>\n",
       "    </tr>\n",
       "    <tr>\n",
       "      <th>4</th>\n",
       "      <td>326</td>\n",
       "      <td>2021-03-18 11:30:00</td>\n",
       "      <td>Bronx</td>\n",
       "      <td>Pelham Bay Park</td>\n",
       "      <td>Pelham Bay Park West &amp; Ropes Avenue</td>\n",
       "      <td>white-tailed deer</td>\n",
       "      <td>Native</td>\n",
       "      <td>Injured</td>\n",
       "      <td>Deer</td>\n",
       "      <td>Monitored Animal</td>\n",
       "      <td>1.0</td>\n",
       "      <td>2021</td>\n",
       "      <td>Pelham Bay Park, Bronx, NY</td>\n",
       "      <td>40.852548</td>\n",
       "      <td>-73.827938</td>\n",
       "    </tr>\n",
       "    <tr>\n",
       "      <th>5</th>\n",
       "      <td>333</td>\n",
       "      <td>2021-03-11 09:30:00</td>\n",
       "      <td>Staten Island</td>\n",
       "      <td>Clove Lakes Park</td>\n",
       "      <td>In woods behind Ice Skating Rink</td>\n",
       "      <td>white-tailed deer</td>\n",
       "      <td>Native</td>\n",
       "      <td>DOA</td>\n",
       "      <td>Deer</td>\n",
       "      <td>Relocated/Condition Corrected</td>\n",
       "      <td>1.0</td>\n",
       "      <td>2021</td>\n",
       "      <td>Clove Lakes Park, Staten Island, NY</td>\n",
       "      <td>40.618708</td>\n",
       "      <td>-74.112755</td>\n",
       "    </tr>\n",
       "    <tr>\n",
       "      <th>7</th>\n",
       "      <td>341</td>\n",
       "      <td>2021-03-07 09:00:00</td>\n",
       "      <td>Staten Island</td>\n",
       "      <td>Joseph Manna Park</td>\n",
       "      <td>In shrubs</td>\n",
       "      <td>white-tailed deer</td>\n",
       "      <td>Native</td>\n",
       "      <td>DOA</td>\n",
       "      <td>Deer</td>\n",
       "      <td>Advised/Educated others</td>\n",
       "      <td>1.0</td>\n",
       "      <td>2021</td>\n",
       "      <td>Joseph Manna Park, Staten Island, NY</td>\n",
       "      <td>40.625787</td>\n",
       "      <td>-74.176887</td>\n",
       "    </tr>\n",
       "  </tbody>\n",
       "</table>\n",
       "</div>"
      ],
      "text/plain": [
       "   Unnamed: 0 Date and Time of initial call        Borough  \\\n",
       "1         124           2021-05-24 10:00:00  Staten Island   \n",
       "3         325           2021-03-18 11:30:00          Bronx   \n",
       "4         326           2021-03-18 11:30:00          Bronx   \n",
       "5         333           2021-03-11 09:30:00  Staten Island   \n",
       "7         341           2021-03-07 09:00:00  Staten Island   \n",
       "\n",
       "                Property                                           Location  \\\n",
       "1  Conference House Park  Next to sidewalk along Statterlee St., between...   \n",
       "3        Pelham Bay Park                Pelham Bay Park West & Ropes Avenue   \n",
       "4        Pelham Bay Park                Pelham Bay Park West & Ropes Avenue   \n",
       "5       Clove Lakes Park                   In woods behind Ice Skating Rink   \n",
       "7      Joseph Manna Park                                          In shrubs   \n",
       "\n",
       "  Species Description Species Status Animal Condition Animal Class  \\\n",
       "1   white-tailed deer         Native              DOA         Deer   \n",
       "3   white-tailed deer         Native              DOA         Deer   \n",
       "4   white-tailed deer         Native          Injured         Deer   \n",
       "5   white-tailed deer         Native              DOA         Deer   \n",
       "7   white-tailed deer         Native              DOA         Deer   \n",
       "\n",
       "             Final Ranger Action  # of Animals  Year  \\\n",
       "1        Advised/Educated others           1.0  2021   \n",
       "3        Advised/Educated others           1.0  2021   \n",
       "4               Monitored Animal           1.0  2021   \n",
       "5  Relocated/Condition Corrected           1.0  2021   \n",
       "7        Advised/Educated others           1.0  2021   \n",
       "\n",
       "                               full_address   latitude  longitude  \n",
       "1  Conference House Park, Staten Island, NY  40.501545 -74.251830  \n",
       "3                Pelham Bay Park, Bronx, NY  40.852548 -73.827938  \n",
       "4                Pelham Bay Park, Bronx, NY  40.852548 -73.827938  \n",
       "5       Clove Lakes Park, Staten Island, NY  40.618708 -74.112755  \n",
       "7      Joseph Manna Park, Staten Island, NY  40.625787 -74.176887  "
      ]
     },
     "execution_count": 47,
     "metadata": {},
     "output_type": "execute_result"
    }
   ],
   "source": [
    "deer_cleaned.head()"
   ]
  },
  {
   "cell_type": "markdown",
   "id": "fedccb79-1663-4b15-ae6e-697bfc192ad6",
   "metadata": {},
   "source": [
    "Now, seeing how many deer were reported in each year of the data."
   ]
  },
  {
   "cell_type": "code",
   "execution_count": 48,
   "id": "0074b898-cb0c-4f53-af1c-ef17e24c6ca4",
   "metadata": {},
   "outputs": [
    {
     "data": {
      "text/plain": [
       "<Axes: ylabel='Year'>"
      ]
     },
     "execution_count": 48,
     "metadata": {},
     "output_type": "execute_result"
    },
    {
     "data": {
      "image/png": "[encoded data removed]",
      "text/plain": [
       "<Figure size 640x480 with 1 Axes>"
      ]
     },
     "metadata": {},
     "output_type": "display_data"
    }
   ],
   "source": [
    "deer_cleaned.groupby('Year')['# of Animals'].sum().sort_values(ascending=False).plot(kind='barh')"
   ]
  },
  {
   "cell_type": "code",
   "execution_count": 49,
   "id": "c8deb311-0d1b-4064-922e-192126e7f246",
   "metadata": {},
   "outputs": [],
   "source": [
    "deer_cleaned.to_csv(\"deer_cleaned.csv\", index=True)"
   ]
  },
  {
   "cell_type": "markdown",
   "id": "f4fd0e4f-a6d7-4489-b220-91f4511fc8b1",
   "metadata": {},
   "source": [
    "Where did they see ALL these deer in 2021?"
   ]
  },
  {
   "cell_type": "code",
   "execution_count": 50,
   "id": "5b31de64-0276-4acd-80ed-969892f688ac",
   "metadata": {},
   "outputs": [
    {
     "data": {
      "text/plain": [
       "Property\n",
       "Pelham Bay Park                  9.0\n",
       "Blue Heron Park                  3.0\n",
       "Brookfield Park                  2.0\n",
       "Clove Lakes Park                 2.0\n",
       "Van Cortlandt Park               2.0\n",
       "Conference House Park            1.0\n",
       "Freshkills Park                  1.0\n",
       "Joseph Manna Park                1.0\n",
       "LaTourette Park & Golf Course    1.0\n",
       "South Shore Country Club         1.0\n",
       "Name: # of Animals, dtype: float64"
      ]
     },
     "execution_count": 50,
     "metadata": {},
     "output_type": "execute_result"
    }
   ],
   "source": [
    "deer_cleaned[deer_cleaned['Year'] == 2021].groupby('Property')['# of Animals'].sum().sort_values(ascending=False).head(10)"
   ]
  },
  {
   "cell_type": "markdown",
   "id": "b276d5f0-9258-478d-ac2b-481abd9a16f8",
   "metadata": {},
   "source": [
    "I also wanna sort by animal classes (mammal, etc)"
   ]
  },
  {
   "cell_type": "code",
   "execution_count": 51,
   "id": "f941e0b3-b9b0-43a4-b5ba-d59fd9649d67",
   "metadata": {},
   "outputs": [
    {
     "data": {
      "text/plain": [
       "Animal Class\n",
       "Birds                                   1775.0\n",
       "Fish-numerous quantity                  1373.0\n",
       "Small Mammals-RVS                       1160.0\n",
       "Domestic                                 750.0\n",
       "[\"Birds\"]                                533.0\n",
       "Small Mammals-non RVS                    446.0\n",
       "Terrestrial Reptile or Amphibian         364.0\n",
       "Raptors                                  288.0\n",
       "[\"Small Mammals-RVS\"]                    285.0\n",
       "[\"Domestic\"]                             211.0\n",
       "Rare,  Endangered,  Dangerous            114.0\n",
       "[\"Rare, Endangered, Dangerous\"]          107.0\n",
       "[\"Small Mammals-non RVS\"]                102.0\n",
       "[\"Fish-numerous quantity\"]               101.0\n",
       "Domestic;#Birds                           91.0\n",
       "Non Native Fish-(invasive)                90.0\n",
       "[\"Terrestrial Reptile or Amphibian\"]      87.0\n",
       "Domestic, Birds                           74.0\n",
       "Deer                                      68.0\n",
       "[\"Domestic\",\"Birds\"]                      62.0\n",
       "Name: # of Animals, dtype: float64"
      ]
     },
     "execution_count": 51,
     "metadata": {},
     "output_type": "execute_result"
    }
   ],
   "source": [
    "df.groupby('Animal Class')['# of Animals'].sum().sort_values(ascending=False).head(20)"
   ]
  },
  {
   "cell_type": "markdown",
   "id": "278dd481-c1f6-423f-aac5-bab31b4b03ee",
   "metadata": {},
   "source": [
    "these are pretty messy. let's try to clean up htese categories. "
   ]
  },
  {
   "cell_type": "code",
   "execution_count": 52,
   "id": "a29ca46e-0d27-42d4-a7e4-366af8d114e6",
   "metadata": {},
   "outputs": [],
   "source": [
    "df['Animal Class Clean'] = (\n",
    "    df['Animal Class']\n",
    "    .astype(str)\n",
    "    .str.replace(r'[\\[\\]\"]', '', regex=True)\n",
    ")"
   ]
  },
  {
   "cell_type": "code",
   "execution_count": 53,
   "id": "f6c974ae-ff1a-4d4a-a68f-863230df73ce",
   "metadata": {},
   "outputs": [],
   "source": [
    "df['Animal Class Clean'] = df['Animal Class Clean'].str.replace(r'[;#]', ',', regex=True)"
   ]
  },
  {
   "cell_type": "code",
   "execution_count": 54,
   "id": "d945bc75-7ff9-4564-ba91-771f857b08a5",
   "metadata": {},
   "outputs": [
    {
     "data": {
      "text/plain": [
       "Animal Class Clean\n",
       "Birds                                                       2308.0\n",
       "Fish-numerous quantity                                      1474.0\n",
       "Small Mammals-RVS                                           1445.0\n",
       "Domestic                                                     961.0\n",
       "Small Mammals-non RVS                                        548.0\n",
       "Terrestrial Reptile or Amphibian                             451.0\n",
       "Raptors                                                      323.0\n",
       "Rare,  Endangered,  Dangerous                                114.0\n",
       "Rare, Endangered, Dangerous                                  107.0\n",
       "Domestic,,Birds                                               91.0\n",
       "Non Native Fish-(invasive)                                    91.0\n",
       "Deer                                                          79.0\n",
       "Domestic, Birds                                               74.0\n",
       "Domestic,Birds                                                62.0\n",
       "Birds, Domestic                                               44.0\n",
       "Terrestrial Reptile or Amphibian, Fish-numerous quantity      42.0\n",
       "Marine Mammals-seals only                                     33.0\n",
       "Domestic,Small Mammals-non RVS                                30.0\n",
       "Domestic, Small Mammals-non RVS                               30.0\n",
       "Coyotes                                                       22.0\n",
       "Birds,,Domestic                                               22.0\n",
       "Marine Reptiles                                               19.0\n",
       "Marine Mammals-whales, Dolphin                                 6.0\n",
       "Birds,Domestic                                                 6.0\n",
       "Marine Mammals-whales,  Dolphin                                5.0\n",
       "Domestic,,Small Mammals-non RVS                                5.0\n",
       "Small Mammals-non RVS, Domestic                                3.0\n",
       "Raptors, Small Mammals-RVS                                     1.0\n",
       "Small Mammals-RVS,,Domestic                                    1.0\n",
       "Fish-numerous quantity,,Terrestrial Reptile or Amphibian       0.0\n",
       "Name: # of Animals, dtype: float64"
      ]
     },
     "execution_count": 54,
     "metadata": {},
     "output_type": "execute_result"
    }
   ],
   "source": [
    "df.groupby('Animal Class Clean')['# of Animals'].sum().sort_values(ascending=False)"
   ]
  },
  {
   "cell_type": "markdown",
   "id": "3a208533-9cdf-4520-842a-97157229b33e",
   "metadata": {},
   "source": [
    "what year did people report the most animals overall?"
   ]
  },
  {
   "cell_type": "code",
   "execution_count": 55,
   "id": "9a5ff921-4f5b-43f6-bbea-e4abe7845eeb",
   "metadata": {},
   "outputs": [
    {
     "data": {
      "text/plain": [
       "Year\n",
       "2023    1966.0\n",
       "2020    1774.0\n",
       "2022    1295.0\n",
       "2021    1223.0\n",
       "2019     831.0\n",
       "2024     693.0\n",
       "2018     615.0\n",
       "Name: # of Animals, dtype: float64"
      ]
     },
     "execution_count": 55,
     "metadata": {},
     "output_type": "execute_result"
    }
   ],
   "source": [
    "df.groupby('Year')['# of Animals'].sum().sort_values(ascending=False).head(10)"
   ]
  },
  {
   "cell_type": "code",
   "execution_count": 56,
   "id": "36ca7341-beaa-40de-9ea9-1076e21e7c5a",
   "metadata": {},
   "outputs": [
    {
     "data": {
      "text/plain": [
       "Year\n",
       "2018     615.0\n",
       "2019     831.0\n",
       "2020    1774.0\n",
       "2021    1223.0\n",
       "2022    1295.0\n",
       "2023    1966.0\n",
       "2024     693.0\n",
       "Name: # of Animals, dtype: float64"
      ]
     },
     "execution_count": 56,
     "metadata": {},
     "output_type": "execute_result"
    }
   ],
   "source": [
    "df.groupby('Year')['# of Animals'].sum().head(10)"
   ]
  },
  {
   "cell_type": "markdown",
   "id": "d3ae40b6-8907-4dd3-9ed0-23ed38aa6c63",
   "metadata": {},
   "source": [
    "how many animals were dead etc"
   ]
  },
  {
   "cell_type": "code",
   "execution_count": 60,
   "id": "672966f3-59b1-41e4-bded-f4ae57c20ec6",
   "metadata": {},
   "outputs": [
    {
     "data": {
      "text/plain": [
       "Animal Condition\n",
       "DOA          1893.0\n",
       "Healthy      3614.0\n",
       "Injured      1222.0\n",
       "Unhealthy    1446.0\n",
       "Name: # of Animals, dtype: float64"
      ]
     },
     "execution_count": 60,
     "metadata": {},
     "output_type": "execute_result"
    }
   ],
   "source": [
    "df.groupby('Animal Condition')['# of Animals'].sum().head(10)"
   ]
  },
  {
   "cell_type": "code",
   "execution_count": 62,
   "id": "c99f15f4-6a23-4674-9fcc-c0d0547f7483",
   "metadata": {},
   "outputs": [
    {
     "data": {
      "text/plain": [
       "Species Description\n",
       "alligator snapping turtle                          1.0\n",
       "american alligator                                 3.0\n",
       "american bittern                                   3.0\n",
       "american black duck                                1.0\n",
       "american black duck/mallard (hybrid)               1.0\n",
       "american bullfrog                                 58.0\n",
       "american bullfrog and florida softshell turtle    42.0\n",
       "american coot                                      3.0\n",
       "american crow                                     14.0\n",
       "american goldfinch                                 1.0\n",
       "Name: # of Animals, dtype: float64"
      ]
     },
     "execution_count": 62,
     "metadata": {},
     "output_type": "execute_result"
    }
   ],
   "source": [
    "df.groupby('Species Description')['# of Animals'].sum().head(10)"
   ]
  },
  {
   "cell_type": "code",
   "execution_count": null,
   "id": "1a3c137f-37ed-41c0-aa2b-c5b2337a4a56",
   "metadata": {},
   "outputs": [],
   "source": [
    "df.groupby('Boroughs')['# of Animals'].sum().head(10)"
   ]
  },
  {
   "cell_type": "code",
   "execution_count": 67,
   "id": "3228d2c2-44e9-4f41-9194-e87e4571acbd",
   "metadata": {},
   "outputs": [],
   "source": [
    "top_animals = (\n",
    "    df.groupby(['Borough', 'Species Description'])['# of Animals']\n",
    "    .sum()\n",
    "    .reset_index()\n",
    "    .sort_values(['Borough', '# of Animals'], ascending=[True, False])\n",
    "    .drop_duplicates('Borough')\n",
    ")"
   ]
  },
  {
   "cell_type": "code",
   "execution_count": 68,
   "id": "f20d29c6-498f-4eb6-972c-fa492fc7c03d",
   "metadata": {},
   "outputs": [],
   "source": [
    "top_animals.to_csv(\"top_animals.csv\", index=True)"
   ]
  },
  {
   "cell_type": "code",
   "execution_count": null,
   "id": "f422b1be-325e-4287-9acc-0a2799d8fc5f",
   "metadata": {},
   "outputs": [],
   "source": []
  }
 ],
 "metadata": {
  "kernelspec": {
   "display_name": "Python 3 (ipykernel)",
   "language": "python",
   "name": "python3"
  },
  "language_info": {
   "codemirror_mode": {
    "name": "ipython",
    "version": 3
   },
   "file_extension": ".py",
   "mimetype": "text/x-python",
   "name": "python",
   "nbconvert_exporter": "python",
   "pygments_lexer": "ipython3",
   "version": "3.11.8"
  }
 },
 "nbformat": 4,
 "nbformat_minor": 5
}
